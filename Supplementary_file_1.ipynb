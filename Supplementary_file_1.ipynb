{
 "cells": [
  {
   "cell_type": "markdown",
   "metadata": {},
   "source": [
    "# mine the GFF and Fasta file"
   ]
  },
  {
   "cell_type": "code",
   "execution_count": null,
   "metadata": {},
   "outputs": [],
   "source": [
    "# import all modules\n",
    "import sys\n",
    "import os\n",
    "\n",
    "#setting up all variables\n",
    "NCBI_file = sys.argv[1] # refseq list (supplementary file 2) from NCBI website\n",
    "#NCBI_file = '/home/nisha/Desktop/Dinucleotide_project/2nd_jan_all_vertebrates_assembly_summary.txt'\n",
    "with open (NCBI_file) as fh:\n",
    "    for line in fh:\n",
    "        if line.startswith('#'):\n",
    "            continue\n",
    "        content = line.strip().split('\\t')\n",
    "        print(content)\n",
    "        name = content[-4]\n",
    "        print(name)\n",
    "        depth_name = name.split('/')\n",
    "        print(depth_name)\n",
    "        depth_name_last = depth_name[-1]\n",
    "        animal_name = content[7]\n",
    "        #print(depth_name_last)\n",
    "        new = animal_name, replace ' ', '_')\n",
    "        print(new)\n",
    "        command1 = 'wget ' + name +'/' +  depth_name_last + '_genomic.fna.gz' # for ggf file write gff inplace of fna\n",
    "        #print(command1)\n",
    "        #os.system(command1)      \n",
    "        print(\"Run completed for \",end='\\t')\n",
    "        print(animal_name)\n"
   ]
  },
  {
   "cell_type": "code",
   "execution_count": null,
   "metadata": {},
   "outputs": [],
   "source": []
  }
 ],
 "metadata": {
  "kernelspec": {
   "display_name": "Python 3",
   "language": "python",
   "name": "python3"
  },
  "language_info": {
   "codemirror_mode": {
    "name": "ipython",
    "version": 3
   },
   "file_extension": ".py",
   "mimetype": "text/x-python",
   "name": "python",
   "nbconvert_exporter": "python",
   "pygments_lexer": "ipython3",
   "version": "3.8.5"
  }
 },
 "nbformat": 4,
 "nbformat_minor": 4
}
