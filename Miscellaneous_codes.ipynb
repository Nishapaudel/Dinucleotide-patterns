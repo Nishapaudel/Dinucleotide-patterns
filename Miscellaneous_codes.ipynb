{
 "cells": [
  {
   "cell_type": "code",
   "execution_count": 1,
   "metadata": {},
   "outputs": [
    {
     "name": "stdout",
     "output_type": "stream",
     "text": [
      "AT\t1\n",
      "TG\t1\n",
      "GC\t2\n",
      "CG\t1\n"
     ]
    }
   ],
   "source": [
    "import sys\n",
    "count = {}\n",
    "valid = [ 'A','T', 'G', 'C']\n",
    "dna = 'ATGCGCN'\n",
    "\n",
    "for i in range (0, len(dna)-1):\n",
    "    first = dna[i]\n",
    "    second = dna[i+1]\n",
    "    if first not in valid or second not in valid:\n",
    "        continue\n",
    "    dimer = first + second\n",
    "    if dimer in count:\n",
    "        count[dimer] += 1\n",
    "    else:\n",
    "        count[dimer] = 1\n",
    "for dimer in count:\n",
    "        print(dimer,count[dimer], sep = ('\\t'))"
   ]
  },
  {
   "cell_type": "code",
   "execution_count": null,
   "metadata": {},
   "outputs": [],
   "source": [
    "tax_id = ''\n",
    "f = open(\"testttt.txt\", 'w')\n",
    "with open(\"/home/nisha/Desktop/Dinucleotide_project/Gene_bank_to_filter\",\"r\")as fh:\n",
    "    for line in fh:\n",
    "        content = line.strip().split('\\t')\n",
    "        print(content)\n",
    "        if tax_id == '' or tax_id != content[5]:\n",
    "            tax_id = content[5]\n",
    "            #print(content, file = f)\n",
    "            print(content[0],content[1], content[2],content[3],content[4],content[5],content[6],content[7],content[8] ,content[9], content[10],content[11], content[12],content[13],content[14], content[15],content[16], content[17], content[18],content[19], content[20], content[21], content[22],sep= '\\t', file = f)\n",
    "            \n",
    "        "
   ]
  }
 ],
 "metadata": {
  "kernelspec": {
   "display_name": "Python 3",
   "language": "python",
   "name": "python3"
  },
  "language_info": {
   "codemirror_mode": {
    "name": "ipython",
    "version": 3
   },
   "file_extension": ".py",
   "mimetype": "text/x-python",
   "name": "python",
   "nbconvert_exporter": "python",
   "pygments_lexer": "ipython3",
   "version": "3.8.5"
  }
 },
 "nbformat": 4,
 "nbformat_minor": 4
}
